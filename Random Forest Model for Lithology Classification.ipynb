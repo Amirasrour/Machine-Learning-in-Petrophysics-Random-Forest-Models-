{
 "cells": [
  {
   "cell_type": "markdown",
   "id": "a5592efe",
   "metadata": {},
   "source": [
    "import libraries"
   ]
  },
  {
   "cell_type": "code",
   "execution_count": 2,
   "id": "498a9dda",
   "metadata": {},
   "outputs": [],
   "source": [
    "import pandas as pd \n",
    "import matplotlib.pyplot as plt\n",
    "import seaborn as sns\n",
    "from sklearn.model_selection import train_test_split\n",
    "from sklearn.metrics import confusion_matrix, accuracy_score, classification_report\n",
    "from sklearn.ensemble import RandomForestClassifier"
   ]
  },
  {
   "cell_type": "code",
   "execution_count": 3,
   "id": "5d2ba0bf",
   "metadata": {},
   "outputs": [],
   "source": [
    "df = pd.read_csv(\"Data_Xeek_train_subset_clean.csv\")"
   ]
  },
  {
   "cell_type": "code",
   "execution_count": 4,
   "id": "ba64117a",
   "metadata": {},
   "outputs": [
    {
     "data": {
      "text/html": [
       "<div>\n",
       "<style scoped>\n",
       "    .dataframe tbody tr th:only-of-type {\n",
       "        vertical-align: middle;\n",
       "    }\n",
       "\n",
       "    .dataframe tbody tr th {\n",
       "        vertical-align: top;\n",
       "    }\n",
       "\n",
       "    .dataframe thead th {\n",
       "        text-align: right;\n",
       "    }\n",
       "</style>\n",
       "<table border=\"1\" class=\"dataframe\">\n",
       "  <thead>\n",
       "    <tr style=\"text-align: right;\">\n",
       "      <th></th>\n",
       "      <th>WELL</th>\n",
       "      <th>DEPTH_MD</th>\n",
       "      <th>GROUP</th>\n",
       "      <th>FORMATION</th>\n",
       "      <th>CALI</th>\n",
       "      <th>RDEP</th>\n",
       "      <th>RHOB</th>\n",
       "      <th>GR</th>\n",
       "      <th>NPHI</th>\n",
       "      <th>PEF</th>\n",
       "      <th>DTC</th>\n",
       "      <th>LITH</th>\n",
       "    </tr>\n",
       "  </thead>\n",
       "  <tbody>\n",
       "    <tr>\n",
       "      <th>0</th>\n",
       "      <td>15/9-13</td>\n",
       "      <td>494.528</td>\n",
       "      <td>NORDLAND GP.</td>\n",
       "      <td>NaN</td>\n",
       "      <td>19.480835</td>\n",
       "      <td>1.798681</td>\n",
       "      <td>1.884186</td>\n",
       "      <td>80.200851</td>\n",
       "      <td>NaN</td>\n",
       "      <td>20.915468</td>\n",
       "      <td>161.131180</td>\n",
       "      <td>Shale</td>\n",
       "    </tr>\n",
       "    <tr>\n",
       "      <th>1</th>\n",
       "      <td>15/9-13</td>\n",
       "      <td>494.680</td>\n",
       "      <td>NORDLAND GP.</td>\n",
       "      <td>NaN</td>\n",
       "      <td>19.468800</td>\n",
       "      <td>1.795641</td>\n",
       "      <td>1.889794</td>\n",
       "      <td>79.262886</td>\n",
       "      <td>NaN</td>\n",
       "      <td>19.383013</td>\n",
       "      <td>160.603470</td>\n",
       "      <td>Shale</td>\n",
       "    </tr>\n",
       "    <tr>\n",
       "      <th>2</th>\n",
       "      <td>15/9-13</td>\n",
       "      <td>494.832</td>\n",
       "      <td>NORDLAND GP.</td>\n",
       "      <td>NaN</td>\n",
       "      <td>19.468800</td>\n",
       "      <td>1.800733</td>\n",
       "      <td>1.896523</td>\n",
       "      <td>74.821999</td>\n",
       "      <td>NaN</td>\n",
       "      <td>22.591518</td>\n",
       "      <td>160.173615</td>\n",
       "      <td>Shale</td>\n",
       "    </tr>\n",
       "    <tr>\n",
       "      <th>3</th>\n",
       "      <td>15/9-13</td>\n",
       "      <td>494.984</td>\n",
       "      <td>NORDLAND GP.</td>\n",
       "      <td>NaN</td>\n",
       "      <td>19.459282</td>\n",
       "      <td>1.801517</td>\n",
       "      <td>1.891913</td>\n",
       "      <td>72.878922</td>\n",
       "      <td>NaN</td>\n",
       "      <td>32.191910</td>\n",
       "      <td>160.149429</td>\n",
       "      <td>Shale</td>\n",
       "    </tr>\n",
       "    <tr>\n",
       "      <th>4</th>\n",
       "      <td>15/9-13</td>\n",
       "      <td>495.136</td>\n",
       "      <td>NORDLAND GP.</td>\n",
       "      <td>NaN</td>\n",
       "      <td>19.453100</td>\n",
       "      <td>1.795299</td>\n",
       "      <td>1.880034</td>\n",
       "      <td>71.729141</td>\n",
       "      <td>NaN</td>\n",
       "      <td>38.495632</td>\n",
       "      <td>160.128342</td>\n",
       "      <td>Shale</td>\n",
       "    </tr>\n",
       "  </tbody>\n",
       "</table>\n",
       "</div>"
      ],
      "text/plain": [
       "      WELL  DEPTH_MD         GROUP FORMATION       CALI      RDEP      RHOB  \\\n",
       "0  15/9-13   494.528  NORDLAND GP.       NaN  19.480835  1.798681  1.884186   \n",
       "1  15/9-13   494.680  NORDLAND GP.       NaN  19.468800  1.795641  1.889794   \n",
       "2  15/9-13   494.832  NORDLAND GP.       NaN  19.468800  1.800733  1.896523   \n",
       "3  15/9-13   494.984  NORDLAND GP.       NaN  19.459282  1.801517  1.891913   \n",
       "4  15/9-13   495.136  NORDLAND GP.       NaN  19.453100  1.795299  1.880034   \n",
       "\n",
       "          GR  NPHI        PEF         DTC   LITH  \n",
       "0  80.200851   NaN  20.915468  161.131180  Shale  \n",
       "1  79.262886   NaN  19.383013  160.603470  Shale  \n",
       "2  74.821999   NaN  22.591518  160.173615  Shale  \n",
       "3  72.878922   NaN  32.191910  160.149429  Shale  \n",
       "4  71.729141   NaN  38.495632  160.128342  Shale  "
      ]
     },
     "execution_count": 4,
     "metadata": {},
     "output_type": "execute_result"
    }
   ],
   "source": [
    "df.head(5)"
   ]
  },
  {
   "cell_type": "code",
   "execution_count": 5,
   "id": "95da4785",
   "metadata": {},
   "outputs": [
    {
     "data": {
      "text/html": [
       "<div>\n",
       "<style scoped>\n",
       "    .dataframe tbody tr th:only-of-type {\n",
       "        vertical-align: middle;\n",
       "    }\n",
       "\n",
       "    .dataframe tbody tr th {\n",
       "        vertical-align: top;\n",
       "    }\n",
       "\n",
       "    .dataframe thead th {\n",
       "        text-align: right;\n",
       "    }\n",
       "</style>\n",
       "<table border=\"1\" class=\"dataframe\">\n",
       "  <thead>\n",
       "    <tr style=\"text-align: right;\">\n",
       "      <th></th>\n",
       "      <th>DEPTH_MD</th>\n",
       "      <th>CALI</th>\n",
       "      <th>RDEP</th>\n",
       "      <th>RHOB</th>\n",
       "      <th>GR</th>\n",
       "      <th>NPHI</th>\n",
       "      <th>PEF</th>\n",
       "      <th>DTC</th>\n",
       "    </tr>\n",
       "  </thead>\n",
       "  <tbody>\n",
       "    <tr>\n",
       "      <th>count</th>\n",
       "      <td>133198.000000</td>\n",
       "      <td>133006.000000</td>\n",
       "      <td>125805.000000</td>\n",
       "      <td>108053.000000</td>\n",
       "      <td>133198.000000</td>\n",
       "      <td>91725.000000</td>\n",
       "      <td>100840.000000</td>\n",
       "      <td>132635.000000</td>\n",
       "    </tr>\n",
       "    <tr>\n",
       "      <th>mean</th>\n",
       "      <td>1792.944663</td>\n",
       "      <td>13.199399</td>\n",
       "      <td>1.743774</td>\n",
       "      <td>2.199556</td>\n",
       "      <td>69.553872</td>\n",
       "      <td>0.355602</td>\n",
       "      <td>4.511845</td>\n",
       "      <td>122.700286</td>\n",
       "    </tr>\n",
       "    <tr>\n",
       "      <th>std</th>\n",
       "      <td>739.441515</td>\n",
       "      <td>3.561386</td>\n",
       "      <td>13.233330</td>\n",
       "      <td>0.236902</td>\n",
       "      <td>39.328728</td>\n",
       "      <td>0.143857</td>\n",
       "      <td>5.092807</td>\n",
       "      <td>34.234879</td>\n",
       "    </tr>\n",
       "    <tr>\n",
       "      <th>min</th>\n",
       "      <td>415.261599</td>\n",
       "      <td>5.946157</td>\n",
       "      <td>0.123068</td>\n",
       "      <td>1.366913</td>\n",
       "      <td>0.109284</td>\n",
       "      <td>-0.023143</td>\n",
       "      <td>1.010027</td>\n",
       "      <td>7.415132</td>\n",
       "    </tr>\n",
       "    <tr>\n",
       "      <th>25%</th>\n",
       "      <td>1182.822400</td>\n",
       "      <td>11.381848</td>\n",
       "      <td>0.777323</td>\n",
       "      <td>2.029237</td>\n",
       "      <td>43.244637</td>\n",
       "      <td>0.234927</td>\n",
       "      <td>2.857540</td>\n",
       "      <td>87.899776</td>\n",
       "    </tr>\n",
       "    <tr>\n",
       "      <th>50%</th>\n",
       "      <td>1747.524495</td>\n",
       "      <td>12.698571</td>\n",
       "      <td>1.130621</td>\n",
       "      <td>2.162121</td>\n",
       "      <td>66.266132</td>\n",
       "      <td>0.382014</td>\n",
       "      <td>3.780121</td>\n",
       "      <td>135.968094</td>\n",
       "    </tr>\n",
       "    <tr>\n",
       "      <th>75%</th>\n",
       "      <td>2413.874901</td>\n",
       "      <td>14.944049</td>\n",
       "      <td>1.644573</td>\n",
       "      <td>2.404375</td>\n",
       "      <td>93.808681</td>\n",
       "      <td>0.480985</td>\n",
       "      <td>5.098502</td>\n",
       "      <td>147.388626</td>\n",
       "    </tr>\n",
       "    <tr>\n",
       "      <th>max</th>\n",
       "      <td>3272.024000</td>\n",
       "      <td>25.717396</td>\n",
       "      <td>1856.935059</td>\n",
       "      <td>3.115611</td>\n",
       "      <td>804.298950</td>\n",
       "      <td>0.817310</td>\n",
       "      <td>365.575592</td>\n",
       "      <td>230.432953</td>\n",
       "    </tr>\n",
       "  </tbody>\n",
       "</table>\n",
       "</div>"
      ],
      "text/plain": [
       "            DEPTH_MD           CALI           RDEP           RHOB  \\\n",
       "count  133198.000000  133006.000000  125805.000000  108053.000000   \n",
       "mean     1792.944663      13.199399       1.743774       2.199556   \n",
       "std       739.441515       3.561386      13.233330       0.236902   \n",
       "min       415.261599       5.946157       0.123068       1.366913   \n",
       "25%      1182.822400      11.381848       0.777323       2.029237   \n",
       "50%      1747.524495      12.698571       1.130621       2.162121   \n",
       "75%      2413.874901      14.944049       1.644573       2.404375   \n",
       "max      3272.024000      25.717396    1856.935059       3.115611   \n",
       "\n",
       "                  GR          NPHI            PEF            DTC  \n",
       "count  133198.000000  91725.000000  100840.000000  132635.000000  \n",
       "mean       69.553872      0.355602       4.511845     122.700286  \n",
       "std        39.328728      0.143857       5.092807      34.234879  \n",
       "min         0.109284     -0.023143       1.010027       7.415132  \n",
       "25%        43.244637      0.234927       2.857540      87.899776  \n",
       "50%        66.266132      0.382014       3.780121     135.968094  \n",
       "75%        93.808681      0.480985       5.098502     147.388626  \n",
       "max       804.298950      0.817310     365.575592     230.432953  "
      ]
     },
     "execution_count": 5,
     "metadata": {},
     "output_type": "execute_result"
    }
   ],
   "source": [
    "df.describe()"
   ]
  },
  {
   "cell_type": "code",
   "execution_count": 6,
   "id": "990998d0",
   "metadata": {},
   "outputs": [
    {
     "name": "stdout",
     "output_type": "stream",
     "text": [
      "<class 'pandas.core.frame.DataFrame'>\n",
      "RangeIndex: 133198 entries, 0 to 133197\n",
      "Data columns (total 12 columns):\n",
      " #   Column     Non-Null Count   Dtype  \n",
      "---  ------     --------------   -----  \n",
      " 0   WELL       133198 non-null  object \n",
      " 1   DEPTH_MD   133198 non-null  float64\n",
      " 2   GROUP      133198 non-null  object \n",
      " 3   FORMATION  111632 non-null  object \n",
      " 4   CALI       133006 non-null  float64\n",
      " 5   RDEP       125805 non-null  float64\n",
      " 6   RHOB       108053 non-null  float64\n",
      " 7   GR         133198 non-null  float64\n",
      " 8   NPHI       91725 non-null   float64\n",
      " 9   PEF        100840 non-null  float64\n",
      " 10  DTC        132635 non-null  float64\n",
      " 11  LITH       133198 non-null  object \n",
      "dtypes: float64(8), object(4)\n",
      "memory usage: 12.2+ MB\n"
     ]
    }
   ],
   "source": [
    "df.info()"
   ]
  },
  {
   "cell_type": "code",
   "execution_count": 7,
   "id": "35944678",
   "metadata": {},
   "outputs": [],
   "source": [
    "df.dropna(inplace=True)"
   ]
  },
  {
   "cell_type": "code",
   "execution_count": 8,
   "id": "2b2e53f3",
   "metadata": {},
   "outputs": [
    {
     "data": {
      "text/html": [
       "<div>\n",
       "<style scoped>\n",
       "    .dataframe tbody tr th:only-of-type {\n",
       "        vertical-align: middle;\n",
       "    }\n",
       "\n",
       "    .dataframe tbody tr th {\n",
       "        vertical-align: top;\n",
       "    }\n",
       "\n",
       "    .dataframe thead th {\n",
       "        text-align: right;\n",
       "    }\n",
       "</style>\n",
       "<table border=\"1\" class=\"dataframe\">\n",
       "  <thead>\n",
       "    <tr style=\"text-align: right;\">\n",
       "      <th></th>\n",
       "      <th>DEPTH_MD</th>\n",
       "      <th>CALI</th>\n",
       "      <th>RDEP</th>\n",
       "      <th>RHOB</th>\n",
       "      <th>GR</th>\n",
       "      <th>NPHI</th>\n",
       "      <th>PEF</th>\n",
       "      <th>DTC</th>\n",
       "    </tr>\n",
       "  </thead>\n",
       "  <tbody>\n",
       "    <tr>\n",
       "      <th>count</th>\n",
       "      <td>81586.000000</td>\n",
       "      <td>81586.000000</td>\n",
       "      <td>81586.000000</td>\n",
       "      <td>81586.000000</td>\n",
       "      <td>81586.000000</td>\n",
       "      <td>81586.000000</td>\n",
       "      <td>81586.000000</td>\n",
       "      <td>81586.000000</td>\n",
       "    </tr>\n",
       "    <tr>\n",
       "      <th>mean</th>\n",
       "      <td>2043.137258</td>\n",
       "      <td>11.852378</td>\n",
       "      <td>1.957727</td>\n",
       "      <td>2.217618</td>\n",
       "      <td>67.051531</td>\n",
       "      <td>0.363290</td>\n",
       "      <td>4.603237</td>\n",
       "      <td>115.838336</td>\n",
       "    </tr>\n",
       "    <tr>\n",
       "      <th>std</th>\n",
       "      <td>608.908959</td>\n",
       "      <td>2.930998</td>\n",
       "      <td>16.409763</td>\n",
       "      <td>0.226734</td>\n",
       "      <td>36.319849</td>\n",
       "      <td>0.140331</td>\n",
       "      <td>3.774044</td>\n",
       "      <td>30.772143</td>\n",
       "    </tr>\n",
       "    <tr>\n",
       "      <th>min</th>\n",
       "      <td>797.043199</td>\n",
       "      <td>5.946157</td>\n",
       "      <td>0.123068</td>\n",
       "      <td>1.412190</td>\n",
       "      <td>5.782680</td>\n",
       "      <td>-0.005300</td>\n",
       "      <td>1.126667</td>\n",
       "      <td>7.415132</td>\n",
       "    </tr>\n",
       "    <tr>\n",
       "      <th>25%</th>\n",
       "      <td>1534.512000</td>\n",
       "      <td>8.872679</td>\n",
       "      <td>0.734227</td>\n",
       "      <td>2.033753</td>\n",
       "      <td>43.952875</td>\n",
       "      <td>0.241585</td>\n",
       "      <td>3.129977</td>\n",
       "      <td>86.175848</td>\n",
       "    </tr>\n",
       "    <tr>\n",
       "      <th>50%</th>\n",
       "      <td>2024.834999</td>\n",
       "      <td>12.388681</td>\n",
       "      <td>1.085861</td>\n",
       "      <td>2.180840</td>\n",
       "      <td>64.133839</td>\n",
       "      <td>0.400063</td>\n",
       "      <td>4.009643</td>\n",
       "      <td>124.449657</td>\n",
       "    </tr>\n",
       "    <tr>\n",
       "      <th>75%</th>\n",
       "      <td>2577.673500</td>\n",
       "      <td>13.238356</td>\n",
       "      <td>1.789819</td>\n",
       "      <td>2.424240</td>\n",
       "      <td>86.371059</td>\n",
       "      <td>0.484759</td>\n",
       "      <td>5.260145</td>\n",
       "      <td>143.908131</td>\n",
       "    </tr>\n",
       "    <tr>\n",
       "      <th>max</th>\n",
       "      <td>3198.760000</td>\n",
       "      <td>25.717396</td>\n",
       "      <td>1856.935059</td>\n",
       "      <td>3.005321</td>\n",
       "      <td>804.298950</td>\n",
       "      <td>0.800262</td>\n",
       "      <td>288.103638</td>\n",
       "      <td>230.432953</td>\n",
       "    </tr>\n",
       "  </tbody>\n",
       "</table>\n",
       "</div>"
      ],
      "text/plain": [
       "           DEPTH_MD          CALI          RDEP          RHOB            GR  \\\n",
       "count  81586.000000  81586.000000  81586.000000  81586.000000  81586.000000   \n",
       "mean    2043.137258     11.852378      1.957727      2.217618     67.051531   \n",
       "std      608.908959      2.930998     16.409763      0.226734     36.319849   \n",
       "min      797.043199      5.946157      0.123068      1.412190      5.782680   \n",
       "25%     1534.512000      8.872679      0.734227      2.033753     43.952875   \n",
       "50%     2024.834999     12.388681      1.085861      2.180840     64.133839   \n",
       "75%     2577.673500     13.238356      1.789819      2.424240     86.371059   \n",
       "max     3198.760000     25.717396   1856.935059      3.005321    804.298950   \n",
       "\n",
       "               NPHI           PEF           DTC  \n",
       "count  81586.000000  81586.000000  81586.000000  \n",
       "mean       0.363290      4.603237    115.838336  \n",
       "std        0.140331      3.774044     30.772143  \n",
       "min       -0.005300      1.126667      7.415132  \n",
       "25%        0.241585      3.129977     86.175848  \n",
       "50%        0.400063      4.009643    124.449657  \n",
       "75%        0.484759      5.260145    143.908131  \n",
       "max        0.800262    288.103638    230.432953  "
      ]
     },
     "execution_count": 8,
     "metadata": {},
     "output_type": "execute_result"
    }
   ],
   "source": [
    "df.describe()"
   ]
  },
  {
   "cell_type": "code",
   "execution_count": 9,
   "id": "e39208c1",
   "metadata": {},
   "outputs": [
    {
     "data": {
      "text/plain": [
       "array(['Sandstone', 'Shale', 'Sandstone/Shale', 'Limestone', 'Tuff',\n",
       "       'Marl', 'Chalk', 'Dolomite', 'Coal', 'Halite', 'Anhydrite'],\n",
       "      dtype=object)"
      ]
     },
     "execution_count": 9,
     "metadata": {},
     "output_type": "execute_result"
    }
   ],
   "source": [
    "df['LITH'].unique()"
   ]
  },
  {
   "cell_type": "markdown",
   "id": "1c4148d6",
   "metadata": {},
   "source": [
    "Data splitting"
   ]
  },
  {
   "cell_type": "code",
   "execution_count": 11,
   "id": "00ba38a8",
   "metadata": {},
   "outputs": [],
   "source": [
    "X =df[['RDEP', 'RHOB', 'GR', 'NPHI', 'PEF', 'DTC']]\n",
    "y =df['LITH']"
   ]
  },
  {
   "cell_type": "code",
   "execution_count": 12,
   "id": "1b712fad",
   "metadata": {},
   "outputs": [],
   "source": [
    "X_train, X_test, y_train, y_test = train_test_split(X,y, test_size=0.3)"
   ]
  },
  {
   "cell_type": "code",
   "execution_count": null,
   "id": "a3d94d50",
   "metadata": {},
   "outputs": [],
   "source": []
  },
  {
   "cell_type": "markdown",
   "id": "1ae7f3e2",
   "metadata": {},
   "source": [
    "Creating Random Forest Model"
   ]
  },
  {
   "cell_type": "code",
   "execution_count": 13,
   "id": "77a60726",
   "metadata": {},
   "outputs": [
    {
     "data": {
      "text/plain": [
       "RandomForestClassifier()"
      ]
     },
     "execution_count": 13,
     "metadata": {},
     "output_type": "execute_result"
    }
   ],
   "source": [
    "RFMC = RandomForestClassifier()\n",
    "RFMC"
   ]
  },
  {
   "cell_type": "code",
   "execution_count": 14,
   "id": "4ad58cc7",
   "metadata": {},
   "outputs": [
    {
     "data": {
      "text/plain": [
       "RandomForestClassifier()"
      ]
     },
     "execution_count": 14,
     "metadata": {},
     "output_type": "execute_result"
    }
   ],
   "source": [
    "RFMC.fit(X_train, y_train)"
   ]
  },
  {
   "cell_type": "code",
   "execution_count": 15,
   "id": "9137d85d",
   "metadata": {},
   "outputs": [],
   "source": [
    "y_pred = RFMC.predict(X_test)"
   ]
  },
  {
   "cell_type": "code",
   "execution_count": 16,
   "id": "4cc1476d",
   "metadata": {},
   "outputs": [
    {
     "data": {
      "text/plain": [
       "array(['Limestone', 'Shale', 'Shale', 'Shale', 'Chalk', 'Sandstone/Shale',\n",
       "       'Limestone', 'Shale', 'Limestone', 'Sandstone'], dtype=object)"
      ]
     },
     "execution_count": 16,
     "metadata": {},
     "output_type": "execute_result"
    }
   ],
   "source": [
    "y_pred[0:10]"
   ]
  },
  {
   "cell_type": "code",
   "execution_count": 17,
   "id": "49ae8b91",
   "metadata": {},
   "outputs": [
    {
     "data": {
      "text/plain": [
       "90204           Limestone\n",
       "74651               Shale\n",
       "25664               Shale\n",
       "94064               Shale\n",
       "90781               Chalk\n",
       "75499     Sandstone/Shale\n",
       "32192           Limestone\n",
       "56679               Shale\n",
       "119268          Limestone\n",
       "114973          Sandstone\n",
       "Name: LITH, dtype: object"
      ]
     },
     "execution_count": 17,
     "metadata": {},
     "output_type": "execute_result"
    }
   ],
   "source": [
    "y_test[0:10]"
   ]
  },
  {
   "cell_type": "code",
   "execution_count": null,
   "id": "6699c0ff",
   "metadata": {},
   "outputs": [],
   "source": [
    "Evaluating Model"
   ]
  },
  {
   "cell_type": "code",
   "execution_count": 18,
   "id": "a9d65af5",
   "metadata": {},
   "outputs": [
    {
     "data": {
      "text/plain": [
       "1.0"
      ]
     },
     "execution_count": 18,
     "metadata": {},
     "output_type": "execute_result"
    }
   ],
   "source": [
    "RFMC.score(X_train, y_train)"
   ]
  },
  {
   "cell_type": "code",
   "execution_count": 19,
   "id": "f90e5f73",
   "metadata": {},
   "outputs": [
    {
     "data": {
      "text/plain": [
       "0.9109331590129106"
      ]
     },
     "execution_count": 19,
     "metadata": {},
     "output_type": "execute_result"
    }
   ],
   "source": [
    "RFMC.score(X_test, y_test)"
   ]
  },
  {
   "cell_type": "code",
   "execution_count": 20,
   "id": "c32c9a52",
   "metadata": {},
   "outputs": [
    {
     "data": {
      "text/plain": [
       "0.9109331590129106"
      ]
     },
     "execution_count": 20,
     "metadata": {},
     "output_type": "execute_result"
    }
   ],
   "source": [
    "accuracy_score(y_test, y_pred)"
   ]
  },
  {
   "cell_type": "code",
   "execution_count": 22,
   "id": "d04788aa",
   "metadata": {},
   "outputs": [
    {
     "name": "stdout",
     "output_type": "stream",
     "text": [
      "                 precision    recall  f1-score   support\n",
      "\n",
      "      Anhydrite       0.96      1.00      0.98        24\n",
      "          Chalk       0.85      0.74      0.79       656\n",
      "           Coal       1.00      0.53      0.69        19\n",
      "       Dolomite       0.85      0.55      0.67        31\n",
      "         Halite       0.80      1.00      0.89         4\n",
      "      Limestone       0.88      0.87      0.87      3255\n",
      "           Marl       0.87      0.75      0.81      1131\n",
      "      Sandstone       0.89      0.88      0.89      2973\n",
      "Sandstone/Shale       0.76      0.63      0.69      1359\n",
      "          Shale       0.94      0.98      0.96     14700\n",
      "           Tuff       0.78      0.56      0.65       324\n",
      "\n",
      "       accuracy                           0.91     24476\n",
      "      macro avg       0.87      0.77      0.81     24476\n",
      "   weighted avg       0.91      0.91      0.91     24476\n",
      "\n"
     ]
    }
   ],
   "source": [
    "print(classification_report(y_test, y_pred))"
   ]
  },
  {
   "cell_type": "code",
   "execution_count": 23,
   "id": "2f6717a3",
   "metadata": {},
   "outputs": [],
   "source": [
    "cm_matrix = confusion_matrix(y_test, y_pred)"
   ]
  },
  {
   "cell_type": "code",
   "execution_count": 24,
   "id": "01b3fa24",
   "metadata": {},
   "outputs": [],
   "source": [
    "labels = ['Limestone', 'Shale', 'Shale', 'Shale', 'Chalk', 'Sandstone/Shale','Limestone', 'Shale', 'Limestone', 'Sandstone']\n",
    "labels.sort()"
   ]
  },
  {
   "cell_type": "code",
   "execution_count": 27,
   "id": "2d41197e",
   "metadata": {},
   "outputs": [
    {
     "data": {
      "text/plain": [
       "Text(0.5, 1.0, 'Confusion Matrix with Labels')"
      ]
     },
     "execution_count": 27,
     "metadata": {},
     "output_type": "execute_result"
    },
    {
     "data": {
      "image/png": "[encoded data removed]",
      "text/plain": [
       "<Figure size 1000x1000 with 2 Axes>"
      ]
     },
     "metadata": {},
     "output_type": "display_data"
    }
   ],
   "source": [
    "fig = plt.figure(figsize=(10,10))\n",
    "ax = sns.heatmap(cm_matrix, annot=True,cmap ='Reds',fmt='.0f'\n",
    "                 ,xticklabels = labels,\n",
    "                 yticklabels = labels)\n",
    "ax.set_xlabel('\\n Predicted Values')\n",
    "ax.set_ylabel('Actual Values')\n",
    "ax.set_title('Confusion Matrix with Labels')"
   ]
  },
  {
   "cell_type": "code",
   "execution_count": null,
   "id": "1dbd41bd",
   "metadata": {},
   "outputs": [],
   "source": []
  }
 ],
 "metadata": {
  "kernelspec": {
   "display_name": "Python 3 (ipykernel)",
   "language": "python",
   "name": "python3"
  },
  "language_info": {
   "codemirror_mode": {
    "name": "ipython",
    "version": 3
   },
   "file_extension": ".py",
   "mimetype": "text/x-python",
   "name": "python",
   "nbconvert_exporter": "python",
   "pygments_lexer": "ipython3",
   "version": "3.9.13"
  }
 },
 "nbformat": 4,
 "nbformat_minor": 5
}
